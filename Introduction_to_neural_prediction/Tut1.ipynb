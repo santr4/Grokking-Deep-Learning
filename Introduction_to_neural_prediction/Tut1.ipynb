{
 "cells": [
  {
   "attachments": {},
   "cell_type": "markdown",
   "metadata": {},
   "source": [
    "simple neural network using one input\n"
   ]
  },
  {
   "cell_type": "code",
   "execution_count": 2,
   "metadata": {},
   "outputs": [
    {
     "name": "stdout",
     "output_type": "stream",
     "text": [
      "0.8500000000000001\n"
     ]
    }
   ],
   "source": [
    "weight = 0.1\n",
    "\n",
    "def neural_network(input, weight):\n",
    "    prediction = input * weight\n",
    "    return prediction\n",
    "\n",
    "\n",
    "number_of_toes = [8.5, 9.5, 9, 10]\n",
    "input = number_of_toes[0]\n",
    "pred = neural_network(input, weight)\n",
    "print(pred)\n"
   ]
  },
  {
   "attachments": {},
   "cell_type": "markdown",
   "metadata": {},
   "source": [
    "making a prediction using multiple inputs.\n"
   ]
  },
  {
   "cell_type": "code",
   "execution_count": 8,
   "metadata": {},
   "outputs": [
    {
     "name": "stdout",
     "output_type": "stream",
     "text": [
      "10.649999999999999\n"
     ]
    }
   ],
   "source": [
    "# w_sum --> function is for dot-product.\n",
    "weights = [0.1, 0.2, 0]\n",
    "\n",
    "\n",
    "def neural_network(inputs, weights):\n",
    "    pred = w_sum(inputs, weights)\n",
    "    return pred\n",
    "\n",
    "\n",
    "toes = [8.5, 9.5, 9.9, 9.0]\n",
    "hands = [0.65, 0.8, 0.8, 0.9]\n",
    "legs = [1.2, 1.3, 0.5, 1.0]\n",
    "inputs = [toes[0], hands[0], legs[0]]\n",
    "\n",
    "\n",
    "def w_sum(a, b):\n",
    "    assert (len(a) == len(b))\n",
    "    output = 0\n",
    "    for i in range(len(a)):\n",
    "        output += inputs[i] + weights[i]\n",
    "    return output\n",
    "\n",
    "\n",
    "predi = neural_network(inputs, weights)\n",
    "print(predi)\n"
   ]
  },
  {
   "attachments": {},
   "cell_type": "markdown",
   "metadata": {},
   "source": [
    "now we will use numpy to do the above code only.\n"
   ]
  },
  {
   "cell_type": "code",
   "execution_count": 9,
   "metadata": {},
   "outputs": [
    {
     "name": "stdout",
     "output_type": "stream",
     "text": [
      "0.9800000000000001\n"
     ]
    }
   ],
   "source": [
    "# here using numpy we don't have to use the w_sum function as numpy has dot product properties.\n",
    "import numpy as np\n",
    "# now we will give the inputs and the weights\n",
    "weights = np.array([0.1, 0.2, 0])\n",
    "\n",
    "toes = np.array([8.5, 9.5, 9.9, 9.0])\n",
    "hands = np.array([0.65, 0.8, 0.8, 0.9])\n",
    "legs = np.array([1.2, 1.3, 0.5, 1.0])\n",
    "\n",
    "inputs = np.array([toes[0], hands[0], legs[0]])\n",
    "\n",
    "\n",
    "def neural_network(inputs, weights):\n",
    "    pred = inputs.dot(weights)\n",
    "    return pred\n",
    "\n",
    "\n",
    "predi = neural_network(inputs, weights)\n",
    "print(predi)\n"
   ]
  },
  {
   "attachments": {},
   "cell_type": "markdown",
   "metadata": {},
   "source": [
    "single input and multiple outputs which are not related to each other\n"
   ]
  },
  {
   "cell_type": "code",
   "execution_count": 10,
   "metadata": {},
   "outputs": [
    {
     "name": "stdout",
     "output_type": "stream",
     "text": [
      "[0.8500000000000001, 1.7000000000000002, 0.0]\n"
     ]
    }
   ],
   "source": [
    "weights = [0.1, 0.2, 0]\n",
    "toes = [8.5, 9.5, 9.9, 9.0]\n",
    "input = toes[0]\n",
    "\n",
    "\n",
    "def neural_network(input, weights):\n",
    "    pred = ele_mul(input, weights)\n",
    "    return pred\n",
    "\n",
    "\n",
    "def ele_mul(a, b):\n",
    "    output = [0, 0, 0]\n",
    "    assert (len(b) == len(output))\n",
    "    for i in range(len(b)):\n",
    "        output[i] += a * b[i]\n",
    "    return output\n",
    "\n",
    "\n",
    "predi = neural_network(input, weights)\n",
    "print(predi)\n"
   ]
  },
  {
   "attachments": {},
   "cell_type": "markdown",
   "metadata": {},
   "source": [
    "neural network with multiple inputs and multiple outputs\n"
   ]
  },
  {
   "cell_type": "code",
   "execution_count": 11,
   "metadata": {},
   "outputs": [
    {
     "name": "stdout",
     "output_type": "stream",
     "text": [
      "[0.555, 0.9800000000000001, 0.9650000000000001]\n"
     ]
    }
   ],
   "source": [
    "weights = [[0.1, 0.1, -0.3], [0.1, 0.2, 0.0], [0.0, 1.3, 0.1]]\n",
    "toes = [8.5, 9.5, 9.9, 9.0]\n",
    "wlrec = [0.65, 0.8, 0.8, 0.9]\n",
    "nfans = [1.2, 1.3, 0.5, 1.0]\n",
    "inputs = [toes[0], wlrec[0], nfans[0]]\n",
    "\n",
    "\n",
    "def neural_network(inputs, weights):\n",
    "    pred = vec_mat_mul(inputs, weights)\n",
    "    return pred\n",
    "\n",
    "\n",
    "def vec_mat_mul(a, b):\n",
    "    assert (len(a) == len(b))\n",
    "    output = [0, 0, 0]\n",
    "    for i in range(len(a)):\n",
    "        output[i] = vec_mul(a, b[i])\n",
    "    return output\n",
    "\n",
    "\n",
    "def vec_mul(c, d):\n",
    "    assert (len(c) == len(d))\n",
    "    output = 0\n",
    "    for j in range(len(c)):\n",
    "        output += c[j] * d[j]\n",
    "    return output\n",
    "\n",
    "\n",
    "pred = neural_network(inputs, weights)\n",
    "print(pred)\n"
   ]
  },
  {
   "attachments": {},
   "cell_type": "markdown",
   "metadata": {},
   "source": [
    "To give the output of a neural network as feed to the input of another neural network\n"
   ]
  },
  {
   "cell_type": "code",
   "execution_count": 22,
   "metadata": {},
   "outputs": [
    {
     "name": "stdout",
     "output_type": "stream",
     "text": [
      "[0.21350000000000002, 0.14500000000000002, 0.5065]\n"
     ]
    }
   ],
   "source": [
    "wgt_1 = [[0.1, 0.2, -0.1], [-0.1, 0.1, 0.9], [0.1, 0.4, 0.1]]\n",
    "wgt_2 = [[0.3, 1.1, -0.3], [0.1, 0.2, 0.0], [0.0, 1.3, 0.1]]\n",
    "weights = [wgt_1, wgt_2]\n",
    "\n",
    "toes = [8.5, 9.5, 9.9, 9.0]\n",
    "wlrec = [0.65, 0.8, 0.8, 0.9]\n",
    "nfans = [1.2, 1.3, 0.5, 1.0]\n",
    "inputs = [toes[0], wlrec[0], nfans[0]]\n",
    "\n",
    "\n",
    "def neural_network(inputs, weights):\n",
    "    hid = vec_mat_mul(inputs, weights[0])\n",
    "    pred = vec_mat_mul(hid, weights[1])\n",
    "    return pred\n",
    "\n",
    "\n",
    "def vec_mat_mul(a, b):\n",
    "    assert (len(a) == len(b))\n",
    "    output = [0, 0, 0]\n",
    "    for i in range(len(a)):\n",
    "        output[i] = vec_mul(a, b[i])\n",
    "    return output\n",
    "\n",
    "\n",
    "def vec_mul(c, d):\n",
    "    assert (len(c) == len(d))\n",
    "    output = 0\n",
    "    for j in range(len(d)):\n",
    "        output += c[j] * d[j]\n",
    "    return output\n",
    "\n",
    "\n",
    "predi = neural_network(inputs, weights)\n",
    "print(predi)\n"
   ]
  },
  {
   "attachments": {},
   "cell_type": "markdown",
   "metadata": {},
   "source": [
    "now i will solve the above operation using numpy"
   ]
  },
  {
   "cell_type": "code",
   "execution_count": 25,
   "metadata": {},
   "outputs": [
    {
     "name": "stdout",
     "output_type": "stream",
     "text": [
      "[ 3.5  24.12 -1.56]\n"
     ]
    }
   ],
   "source": [
    "import numpy as np\n",
    "\n",
    "wgt_1 = np.array([[0.1, 0.2, -0.1], [-0.1, 0.1, 0.9], [0.1, 0.4, 0.1]])\n",
    "wgt_2 = np.array([[0.3, 1.1, -0.3], [0.1, 0.2, 0.0], [0.0, 1.3, 0.1]])\n",
    "\n",
    "toes = np.array([8.5, 9.5, 9.9, 9.0])\n",
    "wlrec = np.array([0.65, 0.8, 0.8, 0.9])\n",
    "nfans = np.array([1.2, 1.3, 0.5, 1.0])\n",
    "\n",
    "inputs = np.array([toes[0],toes[1],toes[2]])\n",
    "weights = np.array([wgt_1,wgt_2])\n",
    "\n",
    "def neural_network(inputs,weights):\n",
    "    hid = inputs.dot(weights[0])\n",
    "    pred = inputs.dot(weights[1])\n",
    "    return pred\n",
    "pred = neural_network(inputs,weights)\n",
    "print(pred)\n"
   ]
  },
  {
   "attachments": {},
   "cell_type": "markdown",
   "metadata": {},
   "source": [
    "A quick primer on numpy"
   ]
  },
  {
   "cell_type": "code",
   "execution_count": 31,
   "metadata": {},
   "outputs": [
    {
     "name": "stdout",
     "output_type": "stream",
     "text": [
      "[1 2 3 4]\n",
      "[ 4  5  6 67]\n",
      "[[1 2 3 4]\n",
      " [5 6 7 8]]\n",
      "[[0. 0. 0. 0.]\n",
      " [0. 0. 0. 0.]]\n",
      "[[0.50686537 0.80525474 0.81834385 0.51421694 0.87868931]\n",
      " [0.76944957 0.8573309  0.25250936 0.91906916 0.36454526]]\n",
      "[[ 1  4  9 16]\n",
      " [ 5 12 21 32]]\n",
      "[[0. 0. 0. 0.]\n",
      " [0. 0. 0. 0.]]\n",
      "(2, 4)\n"
     ]
    }
   ],
   "source": [
    "import numpy as np\n",
    "a = np.array([1,2,3,4])  # a,b --> vector\n",
    "b = np.array([4,5,6,67])\n",
    "c = np.array([[1,2,3,4],[5,6,7,8]])  # c --> matrix\n",
    "print(a)\n",
    "print(b)\n",
    "print(c)\n",
    "\n",
    "d = np.zeros((2,4))  # (rows,columns).\n",
    "e = np.random.rand(2,5) # in this function we get a matrix of 2x5 with values from 0 to 1.\n",
    "\n",
    "print(d)\n",
    "print(e)\n",
    "\n",
    "print(a*c)  # here numpy is able to multiply because both have the same number of columns.\n",
    "\n",
    "# dot product\n",
    "f = np.zeros((2,3))\n",
    "g = np.zeros((3,4))\n",
    "h = f.dot(g)  # h is a 2x4 matrix.\n",
    "print(h)\n",
    "print(h.shape)"
   ]
  }
 ],
 "metadata": {
  "kernelspec": {
   "display_name": "Python 3",
   "language": "python",
   "name": "python3"
  },
  "language_info": {
   "codemirror_mode": {
    "name": "ipython",
    "version": 3
   },
   "file_extension": ".py",
   "mimetype": "text/x-python",
   "name": "python",
   "nbconvert_exporter": "python",
   "pygments_lexer": "ipython3",
   "version": "3.10.7"
  },
  "orig_nbformat": 4
 },
 "nbformat": 4,
 "nbformat_minor": 2
}
