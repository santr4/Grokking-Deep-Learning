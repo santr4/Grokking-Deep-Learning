{
 "cells": [
  {
   "attachments": {},
   "cell_type": "markdown",
   "metadata": {},
   "source": [
    "Does your network make good predictions?"
   ]
  },
  {
   "cell_type": "code",
   "execution_count": 1,
   "metadata": {},
   "outputs": [
    {
     "name": "stdout",
     "output_type": "stream",
     "text": [
      "0.30250000000000005\n"
     ]
    }
   ],
   "source": [
    "knob_weight = 0.5\n",
    "input = 0.5\n",
    "goal_prediction = 0.8\n",
    "pred = input * knob_weight\n",
    "error = (pred - goal_prediction)**2  # error should always be positive because -ve error doesnot make any sense\n",
    "print(error)"
   ]
  },
  {
   "attachments": {},
   "cell_type": "markdown",
   "metadata": {},
   "source": [
    "hot and cold learning"
   ]
  },
  {
   "cell_type": "code",
   "execution_count": 1,
   "metadata": {},
   "outputs": [
    {
     "name": "stdout",
     "output_type": "stream",
     "text": [
      "0.022499999999999975\n",
      "0.004224999999999993\n",
      "0.05522499999999994\n"
     ]
    }
   ],
   "source": [
    "# predict \n",
    "weight = 0.1\n",
    "lr = 0.01 # ** this has to be added or subtracted to the weight to make better predictions.\n",
    "win_lose_binary = [1]  \n",
    "true = win_lose_binary[0]  # ** goal prediction\n",
    "toes = [8.5]\n",
    "input = toes[0]\n",
    "\n",
    "def neural_network(input,weight):\n",
    "    pred = input * weight\n",
    "    return pred\n",
    "pred = neural_network(input,weight)\n",
    "\n",
    "error = (pred - true)**2   # ** mean-squared\n",
    "print(error)\n",
    "\n",
    "# compare --> (higher weight)\n",
    "up_pred = neural_network(input,weight+lr)\n",
    "up_error = (up_pred - true) ** 2\n",
    "print(up_error)\n",
    "\n",
    "#compare --> (lower weight)\n",
    "down_pred = neural_network(input,weight-lr)\n",
    "down_error = (down_pred - true) ** 2\n",
    "print(down_error)\n",
    "\n",
    "# compare and learn \n",
    "if (error > up_error or error > down_error):\n",
    "    if (up_error > down_error):\n",
    "        weight -= lr\n",
    "    if (down_error > up_error):\n",
    "        weight += lr\n"
   ]
  }
 ],
 "metadata": {
  "kernelspec": {
   "display_name": "Python 3",
   "language": "python",
   "name": "python3"
  },
  "language_info": {
   "codemirror_mode": {
    "name": "ipython",
    "version": 3
   },
   "file_extension": ".py",
   "mimetype": "text/x-python",
   "name": "python",
   "nbconvert_exporter": "python",
   "pygments_lexer": "ipython3",
   "version": "3.10.7"
  },
  "orig_nbformat": 4
 },
 "nbformat": 4,
 "nbformat_minor": 2
}
