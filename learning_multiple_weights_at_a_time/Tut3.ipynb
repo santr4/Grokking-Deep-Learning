{
 "cells": [
  {
   "attachments": {},
   "cell_type": "markdown",
   "metadata": {},
   "source": [
    "Gradient-descent learning with multiple inputs"
   ]
  },
  {
   "cell_type": "code",
   "execution_count": 2,
   "metadata": {},
   "outputs": [
    {
     "name": "stdout",
     "output_type": "stream",
     "text": [
      " weights: [0.1119, 0.20091, -0.09832]\n",
      " weight_delta: [-1.189999999999999, -0.09099999999999994, -0.16799999999999987]\n"
     ]
    }
   ],
   "source": [
    "weights = [0.1,0.2,-0.1]\n",
    "toes = [8.5 , 9.5, 9.9, 9.0]\n",
    "wlrec = [0.65, 0.8, 0.8, 0.9]\n",
    "nfans = [1.2 , 1.3, 0.5, 1.0]\n",
    "\n",
    "input = [toes[0],wlrec[0],nfans[0]]\n",
    "\n",
    "win_or_lose_binary = [1, 1, 0, 1]\n",
    "\n",
    "true =  win_or_lose_binary[0] # goal_pred\n",
    "\n",
    "def neural_network(input,weights):\n",
    "    pred = w_sum(input,weights)\n",
    "    return pred\n",
    "def w_sum(a,b):\n",
    "    assert(len(a) == len(b))\n",
    "    output = 0\n",
    "    for i in range(len(a)):\n",
    "        output+=a[i] * b[i]\n",
    "    return output\n",
    "def elem_mul(c,d):\n",
    "    output = [0,0,0]\n",
    "    for i in range(len(d)):\n",
    "        output[i] = c * d[i]\n",
    "    return output\n",
    "\n",
    "predi = neural_network(input,weights)\n",
    "error = (predi - true) ** 2\n",
    "delta = predi - true\n",
    "weight_delta = elem_mul(delta,input)\n",
    "\n",
    "alpha = 0.01\n",
    "for j in range(len(weights)):\n",
    "    weights[j]-= alpha*weight_delta[j]\n",
    "print(\" weights: \" + str(weights))\n",
    "print(\" weight_delta: \" + str(weight_delta))"
   ]
  },
  {
   "attachments": {},
   "cell_type": "markdown",
   "metadata": {},
   "source": [
    "freezing one weight ==> still the error of that particular graph comes to zero."
   ]
  },
  {
   "cell_type": "code",
   "execution_count": 2,
   "metadata": {},
   "outputs": [
    {
     "name": "stdout",
     "output_type": "stream",
     "text": [
      "iterations 1\n",
      "predictions 0.8600000000000001\n",
      "error 0.01959999999999997\n",
      "delta -0.1399999999999999\n",
      "weight_delta [0, -0.09099999999999994, -0.16799999999999987]\n",
      "iterations 2\n",
      "predictions 0.9382250000000001\n",
      "error 0.003816150624999989\n",
      "delta -0.06177499999999991\n",
      "weight_delta [0, -0.040153749999999946, -0.07412999999999989]\n",
      "iterations 3\n",
      "predictions 0.97274178125\n",
      "error 0.000743010489422852\n",
      "delta -0.027258218750000007\n",
      "weight_delta [0, -0.017717842187500006, -0.032709862500000006]\n"
     ]
    }
   ],
   "source": [
    "weights = [0.1,0.2,-0.1]\n",
    "\n",
    "toes = [8.5, 9.5, 9.9, 9.0]\n",
    "wlrec =  [0.65, 0.8, 0.8, 0.9]\n",
    "nfans =  [1.2, 1.3, 0.5, 1.0]\n",
    "\n",
    "win_or_lose_binary = [1,1,0,1]\n",
    "true = win_or_lose_binary[0]\n",
    "\n",
    "inputs = [toes[0],wlrec[0],nfans[0]]\n",
    "\n",
    "alpha = 0.3\n",
    "def neural_network(inputs,weights):\n",
    "    pred = prediction(inputs,weights)\n",
    "    return pred\n",
    "\n",
    "def prediction(a,b):\n",
    "    assert(len(a) == len(b))\n",
    "    output = 0\n",
    "    for i in range(len(a)):\n",
    "        output+=a[i] * b[i]\n",
    "    return output\n",
    "\n",
    "def elem_mul(scalar,vector):\n",
    "    output = [0,0,0]\n",
    "    for j in range(len(weights)):\n",
    "        output[j] = scalar * vector[j]\n",
    "    return output\n",
    "\n",
    "for i in range(3):\n",
    "    predi = neural_network(inputs,weights)\n",
    "\n",
    "    error = (predi - true) ** 2\n",
    "    delta = predi - true\n",
    "    weight_delta = elem_mul(delta,inputs)\n",
    "    weight_delta[0] = 0 # ** to freeze the weight of first input.\n",
    "    for k in range(len(weights)):\n",
    "        weights[k]-=(weight_delta[k]*alpha)\n",
    "    print(\"iterations \" + str(i+1))\n",
    "    print(\"predictions \" + str(predi))\n",
    "    print(\"error \" + str(error))\n",
    "    print(\"delta \" + str(delta))\n",
    "    print(\"weight_delta \" + str(weight_delta))\n",
    "    "
   ]
  },
  {
   "attachments": {},
   "cell_type": "markdown",
   "metadata": {},
   "source": [
    "gradient-descent with multiple outputs"
   ]
  },
  {
   "cell_type": "code",
   "execution_count": 7,
   "metadata": {},
   "outputs": [
    {
     "name": "stdout",
     "output_type": "stream",
     "text": [
      " weights [0.293825, 0.25655, 0.868475]\n",
      " weight_delta [0.061750000000000006, -0.5655, 0.3152500000000001]\n"
     ]
    }
   ],
   "source": [
    "import numpy as np\n",
    "weights = [0.3,0.2,0.9]\n",
    "\n",
    "hurt = [0.1, 0.0, 0.0, 0.1]\n",
    "win = [ 1, 1, 0, 1]\n",
    "sad = [0.1, 0.0, 0.1, 0.2]\n",
    "\n",
    "wlrec = [0.65, 1.0, 1.0, 0.9]\n",
    "\n",
    "input = wlrec[0]\n",
    "true = [hurt[0],win[0],sad[0]]\n",
    "\n",
    "def neural_network(input,weights):\n",
    "    pred = ele_mul(input,weights)\n",
    "    return pred\n",
    "\n",
    "def ele_mul(a,b):\n",
    "    output = [0,0,0]\n",
    "    for i in range(len(weights)):\n",
    "        output[i] = a * b[i]\n",
    "    return output\n",
    "\n",
    "predi = neural_network(input,weights)\n",
    "\n",
    "error = [0,0,0]\n",
    "delta = [0,0,0]\n",
    "\n",
    "for j in range(len(true)):\n",
    "    error[j] = (predi[j] - true[j]) ** 2\n",
    "    delta[j] = predi[j] - true[j]\n",
    "\n",
    "def scalar_elem_mul(scalar,vector):\n",
    "    output = [0,0,0]\n",
    "    for k in range(len(weights)):\n",
    "        output[k] = scalar * vector[k]\n",
    "    return output\n",
    "\n",
    "weight_deltas = scalar_elem_mul(input,delta)\n",
    "\n",
    "alpha = 0.1\n",
    "for l in range(len(weights)):\n",
    "    weights[l] -= (weight_deltas[l] * alpha)\n",
    "print(\" weights \" + str(weights))\n",
    "print(\" weight_delta \" + str(weight_deltas))\n"
   ]
  },
  {
   "attachments": {},
   "cell_type": "markdown",
   "metadata": {},
   "source": [
    "Gradient-descent with multiple inputs and outputs"
   ]
  },
  {
   "cell_type": "code",
   "execution_count": 13,
   "metadata": {},
   "outputs": [
    {
     "name": "stdout",
     "output_type": "stream",
     "text": [
      " error [0.20702500000000007, 0.0003999999999999963, 0.7482250000000001]\n",
      " weight_delta [[ 0.546 -0.024  1.038]\n",
      " [ 0.546 -0.024  1.038]\n",
      " [ 0.546 -0.024  1.038]]\n"
     ]
    }
   ],
   "source": [
    "import numpy as np\n",
    "weights = [[0.1,0.1,-0.3],[0.1,0.2,0.0],[0.0,1.3,0.1]]  # different weights for different outputs\n",
    "\n",
    "toes = [8.5, 9.5, 9.9, 9.0]  # multiple inputs\n",
    "wlrec = [0.65,0.8, 0.8, 0.9]\n",
    "nfans = [1.2, 1.3, 0.5, 1.0]\n",
    "\n",
    "hurt = [0.1, 0.0, 0.0, 0.1]  # multiple outputs\n",
    "win = [ 1, 1, 0, 1]\n",
    "sad = [0.1, 0.0, 0.1, 0.2]\n",
    "\n",
    "alpha = 0.01\n",
    "\n",
    "input = [toes[0],wlrec[0],nfans[0]]\n",
    "true = [hurt[0],win[0],sad[0]]\n",
    "\n",
    "def neural_network(input,weights):\n",
    "    pred = vect_mat_mul(input,weights)\n",
    "    return pred\n",
    "def vect_mat_mul(a,b):\n",
    "    assert(len(a) == len(b))\n",
    "    output = [0,0,0]\n",
    "    for i in range(len(a)):\n",
    "        output[i] = w_sum(a,b[i])\n",
    "    return output\n",
    "\n",
    "def w_sum(e,f):\n",
    "    assert(len(e) == len(f))\n",
    "    output = 0\n",
    "    for l in range(len(e)):\n",
    "        output+= e[l] * f[l]\n",
    "    return output\n",
    "\n",
    "def outer_prod(c,d):\n",
    "    out = np.zeros((len(c),len(d))) # a zero matrix of cxd.\n",
    "    for j in range(len(c)):\n",
    "        for k in range(len(d)):\n",
    "            out[j][k] = c[i] * d[k]\n",
    "    return out\n",
    "\n",
    "pred = neural_network(input,weights)\n",
    "\n",
    "error = [0,0,0]\n",
    "delta = [0,0,0]\n",
    "\n",
    "for i in range(len(weights)):\n",
    "    error[i] = (pred[i] - true[i]) ** 2\n",
    "    delta[i] = pred[i] - true[i]\n",
    "\n",
    "weight_delta = outer_prod(input,delta)\n",
    "\n",
    "for i in range(len(weights)):\n",
    "    for j in range(len(weights[0])):\n",
    "        weights[i][j] -= (weight_delta[i][j] * alpha)\n",
    "\n",
    "print(\" error \" + str(error))\n",
    "print(\" weight_delta \" + str(weight_delta))"
   ]
  }
 ],
 "metadata": {
  "kernelspec": {
   "display_name": "Python 3",
   "language": "python",
   "name": "python3"
  },
  "language_info": {
   "codemirror_mode": {
    "name": "ipython",
    "version": 3
   },
   "file_extension": ".py",
   "mimetype": "text/x-python",
   "name": "python",
   "nbconvert_exporter": "python",
   "pygments_lexer": "ipython3",
   "version": "3.10.7"
  },
  "orig_nbformat": 4
 },
 "nbformat": 4,
 "nbformat_minor": 2
}
