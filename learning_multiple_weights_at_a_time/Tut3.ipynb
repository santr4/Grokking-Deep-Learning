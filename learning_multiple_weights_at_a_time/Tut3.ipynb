{
 "cells": [
  {
   "attachments": {},
   "cell_type": "markdown",
   "metadata": {},
   "source": [
    "Gradient-descent learning with multiple inputs"
   ]
  },
  {
   "cell_type": "code",
   "execution_count": 2,
   "metadata": {},
   "outputs": [
    {
     "name": "stdout",
     "output_type": "stream",
     "text": [
      " weights: [0.1119, 0.20091, -0.09832]\n",
      " weight_delta: [-1.189999999999999, -0.09099999999999994, -0.16799999999999987]\n"
     ]
    }
   ],
   "source": [
    "weights = [0.1,0.2,-0.1]\n",
    "toes = [8.5 , 9.5, 9.9, 9.0]\n",
    "wlrec = [0.65, 0.8, 0.8, 0.9]\n",
    "nfans = [1.2 , 1.3, 0.5, 1.0]\n",
    "\n",
    "input = [toes[0],wlrec[0],nfans[0]]\n",
    "\n",
    "win_or_lose_binary = [1, 1, 0, 1]\n",
    "\n",
    "true =  win_or_lose_binary[0] # goal_pred\n",
    "\n",
    "def neural_network(input,weights):\n",
    "    pred = w_sum(input,weights)\n",
    "    return pred\n",
    "def w_sum(a,b):\n",
    "    assert(len(a) == len(b))\n",
    "    output = 0\n",
    "    for i in range(len(a)):\n",
    "        output+=a[i] * b[i]\n",
    "    return output\n",
    "def elem_mul(c,d):\n",
    "    output = [0,0,0]\n",
    "    for i in range(len(d)):\n",
    "        output[i] = c * d[i]\n",
    "    return output\n",
    "\n",
    "predi = neural_network(input,weights)\n",
    "error = (predi - true) ** 2\n",
    "delta = predi - true\n",
    "weight_delta = elem_mul(delta,input)\n",
    "\n",
    "alpha = 0.01\n",
    "for j in range(len(weights)):\n",
    "    weights[j]-= alpha*weight_delta[j]\n",
    "print(\" weights: \" + str(weights))\n",
    "print(\" weight_delta: \" + str(weight_delta))"
   ]
  }
 ],
 "metadata": {
  "kernelspec": {
   "display_name": "Python 3",
   "language": "python",
   "name": "python3"
  },
  "language_info": {
   "codemirror_mode": {
    "name": "ipython",
    "version": 3
   },
   "file_extension": ".py",
   "mimetype": "text/x-python",
   "name": "python",
   "nbconvert_exporter": "python",
   "pygments_lexer": "ipython3",
   "version": "3.10.7"
  },
  "orig_nbformat": 4
 },
 "nbformat": 4,
 "nbformat_minor": 2
}
