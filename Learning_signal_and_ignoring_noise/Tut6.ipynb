{
 "cells": [
  {
   "attachments": {},
   "cell_type": "markdown",
   "metadata": {},
   "source": [
    "The line (x_train, y_train), (x_test, y_test) = mnist.load_data() is responsible for loading the MNIST dataset using the mnist.load_data() function from the Keras library.\n",
    "\n",
    "The MNIST dataset is a widely used benchmark dataset in machine learning and computer vision. It consists of a large number of grayscale images of handwritten digits (0-9), along with their corresponding labels.\n",
    "\n",
    "When mnist.load_data() is called, it returns four NumPy arrays:\n",
    "\n",
    "x_train: This array contains the training images. It is a 3-dimensional array of shape (num_train_samples, height, width), where num_train_samples represents the number of training samples, and height and width represent the dimensions of each image (28x28 pixels).\n",
    "y_train: This array contains the labels for the training images. It is a 1-dimensional array of shape (num_train_samples,), where num_train_samples represents the number of training samples.\n",
    "x_test: This array contains the testing images. It has the same structure as x_train, with dimensions (num_test_samples, height, width).\n",
    "y_test: This array contains the labels for the testing images. It has the same structure as y_train, with dimensions (num_test_samples,).\n",
    "By unpacking the values returned by mnist.load_data() into the variables (x_train, y_train), (x_test, y_test), the code assigns the training and testing images and labels to the corresponding variables for further processing and model training"
   ]
  },
  {
   "attachments": {},
   "cell_type": "markdown",
   "metadata": {},
   "source": [
    "Three-layer network on MNIST"
   ]
  },
  {
   "cell_type": "code",
   "execution_count": 8,
   "metadata": {},
   "outputs": [
    {
     "ename": "ModuleNotFoundError",
     "evalue": "No module named 'tensorflow'",
     "output_type": "error",
     "traceback": [
      "\u001b[1;31m---------------------------------------------------------------------------\u001b[0m",
      "\u001b[1;31mModuleNotFoundError\u001b[0m                       Traceback (most recent call last)",
      "Cell \u001b[1;32mIn[8], line 2\u001b[0m\n\u001b[0;32m      1\u001b[0m \u001b[39mimport\u001b[39;00m \u001b[39msys\u001b[39;00m\u001b[39m,\u001b[39m \u001b[39mnumpy\u001b[39;00m \u001b[39mas\u001b[39;00m \u001b[39mnp\u001b[39;00m\n\u001b[1;32m----> 2\u001b[0m \u001b[39mimport\u001b[39;00m \u001b[39mtensorflow\u001b[39;00m \u001b[39mas\u001b[39;00m \u001b[39mtf\u001b[39;00m\n\u001b[0;32m      3\u001b[0m \u001b[39mimport\u001b[39;00m \u001b[39mtensorflow\u001b[39;00m\u001b[39m.\u001b[39;00m\u001b[39mkeras\u001b[39;00m\n\u001b[0;32m      5\u001b[0m \u001b[39mfrom\u001b[39;00m \u001b[39mtensorflow\u001b[39;00m\u001b[39m.\u001b[39;00m\u001b[39mkeras\u001b[39;00m\u001b[39m.\u001b[39;00m\u001b[39mdatasets\u001b[39;00m \u001b[39mimport\u001b[39;00m mnist\n",
      "\u001b[1;31mModuleNotFoundError\u001b[0m: No module named 'tensorflow'"
     ]
    }
   ],
   "source": [
    "import sys, numpy as np\n",
    "import tensorflow as tf\n",
    "import tensorflow.keras\n",
    "\n",
    "from tensorflow.keras.datasets import mnist\n",
    "\n",
    "(x_train, y_train), (x_test, y_test) = mnist.load_data()\n",
    "\n",
    "images, labels = (x_train[0:1000].reshape(1000,28*28) / 255, y_train[0:1000]) # image and labels are two vectors basically.\n",
    "\n",
    "one_hot_labels = np.zeros((len(labels),10))\n",
    "for i,l in enumerate(labels):\n",
    "    one_hot_labels[i][l] = 1\n",
    "labels = one_hot_labels\n",
    "\n",
    "test_images = x_test.reshape(len(x_test),28*28) / 255\n",
    "test_labels = np.zeros((len(y_test),10))\n",
    "\n",
    "for i,l in enumerate(y_test):\n",
    "    test_labels[i][l] = 1\n",
    "\n",
    "np.random.seed(1)\n",
    "relu = lambda x: (x > 0) * x\n",
    "relu2deriv = lambda x: (x > 0)\n",
    "\n",
    "alpha, iterations, hidden_size, pixels_per_image, num_labels = (0.005, 350, 40, 784, 10)\n",
    "\n",
    "weights_0_1 = 0.2 * np.random.random((pixels_per_image,hidden_size)) - 0.1\n",
    "weigths_1_2 = 0.2 * np.random.random((hidden_size,num_labels)) - 0.1\n",
    "\n",
    "for j in range(iterations):\n",
    "    error, correct_cnt = (0.0,0)\n",
    "    for i in range(len(images)):\n",
    "        layer_0 = images[i:i+1]\n",
    "        layer_1 = relu(np.dot(layer_0,weights_0_1))\n",
    "        layer_2 = np.dot(layer_1,weigths_1_2)\n",
    "        \n",
    "        error+= np.sum((labels[i:i+1] - layer_2) ** 2)  # layer_2 --> output and labels --> goal_prediction\n",
    "        \n",
    "        correct_cnt += int(np.argmax(layer_2) == np.argmax(labels)) # if both equal then returns 1 else return 0.\n",
    "        \n",
    "        layer_2_delta = labels[i:i+1] - layer_2\n",
    "        layer_1_delta = layer_2_delta.dot(weigths_1_2.T) * relu2deriv(layer_1)\n",
    "        \n",
    "        # now we can change our weights so that we can make the error == 0.\n",
    "        \n",
    "        layer_2_weight_delta = layer_1.T.dot(layer_2_delta)\n",
    "        layer_1_weight_delta = layer_0.T.dot(layer_1_delta)\n",
    "        \n",
    "        weights_1_2 += alpha * layer_2_weight_delta\n",
    "        weights_0_1 += alpha * layer_1_weight_delta\n",
    "        \n",
    "        sys.stdout.write(\"\\r\" + \"I\" + str(j) + \"error: \" + str(error/float(len(images)))[0:5] + \"corrections\" + str(correct_cnt/float(len(images))))\n",
    "        "
   ]
  }
 ],
 "metadata": {
  "kernelspec": {
   "display_name": "Python 3",
   "language": "python",
   "name": "python3"
  },
  "language_info": {
   "codemirror_mode": {
    "name": "ipython",
    "version": 3
   },
   "file_extension": ".py",
   "mimetype": "text/x-python",
   "name": "python",
   "nbconvert_exporter": "python",
   "pygments_lexer": "ipython3",
   "version": "3.10.7"
  },
  "orig_nbformat": 4
 },
 "nbformat": 4,
 "nbformat_minor": 2
}
